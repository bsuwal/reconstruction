{
 "cells": [
  {
   "cell_type": "code",
   "execution_count": 319,
   "id": "0e62bc0c",
   "metadata": {},
   "outputs": [],
   "source": [
    "import pandas as pd\n",
    "import numpy as np\n",
    "import random\n",
    "import pickle\n",
    "import copy\n",
    "import matplotlib.pyplot as plt"
   ]
  },
  {
   "cell_type": "code",
   "execution_count": 275,
   "id": "b3181ba9",
   "metadata": {},
   "outputs": [],
   "source": [
    "def turn_ones(x):\n",
    "    if x is True:\n",
    "        return 1\n",
    "    else:\n",
    "        return 0\n",
    "    \n",
    "class Queries:\n",
    "    def __init__(self, num_race, num_hisp, num_age, num_sex, \n",
    "                 race_col, hisp_col, age_col, sex_col):\n",
    "        self.total = 0\n",
    "        \n",
    "        # save_params\n",
    "        self.num_race = num_race\n",
    "        self.num_hisp = num_hisp\n",
    "        self.num_age = num_age\n",
    "        self.num_sex = num_sex\n",
    "\n",
    "        self.race_col = race_col\n",
    "        self.hisp_col = hisp_col\n",
    "        self.age_col = age_col\n",
    "        self.sex_col = sex_col\n",
    "        \n",
    "        # initialize arrays\n",
    "        self.races = np.zeros(num_race) \n",
    "        self.race_hisp = np.zeros([num_race, num_hisp])\n",
    "        self.nh_race_age = np.zeros([num_race, num_age])\n",
    "        self.age_sex = np.zeros([num_age, num_sex])\n",
    "        \n",
    "    def add_total(self, block):\n",
    "        self.total = len(block)\n",
    "\n",
    "    def add_races(self, block):\n",
    "        for (k, v) in block[self.race_col].value_counts().items():\n",
    "            self.races[k] = v\n",
    "    \n",
    "    def add_race_hisp(self, block):\n",
    "        for race in range(self.num_race):\n",
    "            for hisp in range(self.num_hisp):\n",
    "                self.race_hisp[race, hisp] = len(block.query(f'{self.hisp_col} == {hisp} and {self.race_col} == {race}'))\n",
    "                \n",
    "    def add_nh_race_age(self, block):\n",
    "        for race in range(self.num_race):\n",
    "            for age in range(self.num_age):\n",
    "                self.nh_race_age[race, age] = len(block.query(f'{self.hisp_col} == 0 and {self.race_col} == {race} and {self.age_col} == {age}'))\n",
    "                \n",
    "    def add_age_sex(self, block):\n",
    "        for age in range(self.num_age):\n",
    "            for sex in range(self.num_sex):\n",
    "                self.age_sex[age, sex] = len(block.query(f'{self.sex_col} == {sex} and {self.age_col} == {age}'))\n",
    "                \n",
    "    def generate_queries(self, block):\n",
    "        \"\"\"\n",
    "        \"\"\"\n",
    "        self.add_total(block)\n",
    "        self.add_races(block)\n",
    "        self.add_race_hisp(block)\n",
    "        self.add_nh_race_age(block)\n",
    "        self.add_age_sex(block)\n",
    "                \n",
    "    def print_state(self):\n",
    "        print(\"Total: \", self.total)\n",
    "        print(\"Races: \", self.races)\n",
    "        print(\"Race_Hisp: \", self.race_hisp)\n",
    "        print(\"NH_Race_Age: \", self.nh_race_age)\n",
    "        print(\"Age_Sex: \", self.age_sex)\n",
    "\n",
    "def query_manager(block):\n",
    "    \"\"\"\n",
    "    \"\"\"\n",
    "    num_race = 7\n",
    "    num_hisp = 2\n",
    "    num_sex = 2\n",
    "    num_age = 2\n",
    "    \n",
    "    race_col = \"CENRACE\"\n",
    "    hisp_col = \"CENHISP\"\n",
    "    age_col = \"QAGE\"\n",
    "    sex_col = \"QSEX\"\n",
    "    \n",
    "    queries = Queries(num_race, num_hisp, num_sex, num_age, race_col, hisp_col, age_col, sex_col)\n",
    "    queries.generate_queries(block)\n",
    "\n",
    "    return queries\n",
    "\n",
    "def construct_row(q, verbose=False):\n",
    "    \"\"\"\n",
    "    \"\"\"\n",
    "    if verbose:\n",
    "        print(\"Printing state:\")\n",
    "        q.print_state()\n",
    "    \n",
    "    race_prob = q.races/ q.total\n",
    "    rrace = np.random.choice(range(q.num_race), p=race_prob)\n",
    "    \n",
    "    hisp_prob = q.race_hisp[rrace]/ q.race_hisp[rrace].sum()\n",
    "    rhisp = np.random.choice(range(q.num_hisp), p=hisp_prob)\n",
    "    \n",
    "    if rhisp == 0: \n",
    "        age_prob = q.nh_race_age[rrace] / q.nh_race_age[rrace].sum()\n",
    "    else:             \n",
    "        age_prob = q.age_sex.sum(axis=1) / q.total\n",
    "    \n",
    "    rage = np.random.choice(range(q.num_age), p=age_prob)\n",
    "    \n",
    "    sex_prob = q.age_sex[rage] / q.age_sex[rage].sum()\n",
    "    rsex = np.random.choice(range(q.num_sex), p=sex_prob)\n",
    "    \n",
    "    return (rrace, rhisp, rage, rsex)\n",
    "\n",
    "\n",
    "def add_row_to_reconstruction(recon_df, row, blk_id):\n",
    "    \"\"\"\n",
    "    \"\"\"\n",
    "    rrace, rhisp, rage, rsex = row\n",
    "    recon_df.loc[len(recon_df)] = [blk_id, rrace, rhisp, rage, rsex]\n",
    "    \n",
    "def reconstruct_block(blk_id, queries, verbose=False):\n",
    "    \"\"\"\n",
    "    \"\"\"\n",
    "    q = copy.deepcopy(queries)\n",
    "    \n",
    "    if q.total == 0:\n",
    "        print(\"Skipping Block \", blk_id, \"because Queries are empty.\")\n",
    "        return\n",
    "    \n",
    "    recon_df = pd.DataFrame(columns=[\"TABBLK\", \"CENRACE\", \"CENHISP\", \"QAGE\", \"QSEX\"])\n",
    "    for _ in range(q.total):\n",
    "        row = construct_row(q, verbose=verbose)\n",
    "        add_row_to_reconstruction(recon_df, row, blk_id)\n",
    "        remove_row_from_queries(row, q)\n",
    "        \n",
    "    return recon_df\n",
    "\n",
    "def remove_row_from_queries(row, q):\n",
    "    rrace, rhisp, rage, rsex = row\n",
    "    \n",
    "    q.total -= 1\n",
    "    q.races[rrace] -= 1\n",
    "    q.race_hisp[rrace, rhisp] -= 1\n",
    "    \n",
    "    if rhisp == 0:\n",
    "        q.nh_race_age[rrace, rage] -= 1\n",
    "        \n",
    "    q.age_sex[rage, rsex] -= 1\n",
    "    \n",
    "def reconstruct_tract(queries):\n",
    "    \"\"\"\n",
    "    \"\"\"\n",
    "    main_df = pd.DataFrame(columns=[\"TABBLK\", \"CENRACE\", \"CENHISP\", \"QAGE\", \"QSEX\"])\n",
    "\n",
    "    for (block_id, block_queries) in queries.items():\n",
    "        recon_df = reconstruct_block(block_id, block_queries)\n",
    "        main_df = pd.concat([main_df, recon_df])\n",
    "        \n",
    "    return main_df\n",
    "\n",
    "def tests_passed(real_queries, recon_df):\n",
    "    \"\"\"\n",
    "    \"\"\"\n",
    "    reconq = get_block_queries(recon_df)\n",
    "    \n",
    "    for (block_id, realq) in real_queries.items():\n",
    "        assert(realq.total == reconq[block_id].total)\n",
    "        assert(np.sum(realq.races == reconq[block_id].races) == realq.num_race)\n",
    "        assert(np.sum(realq.race_hisp == reconq[block_id].race_hisp) == (realq.num_race * realq.num_hisp))\n",
    "        assert(np.sum(realq.nh_race_age == reconq[block_id].nh_race_age) == (realq.num_race * realq.num_age))\n",
    "        assert(np.sum(realq.age_sex == reconq[block_id].age_sex) == (realq.num_age * realq.num_sex))\n",
    "        \n",
    "    return True\n",
    "    \n",
    "def get_block_queries(df):\n",
    "    \"\"\"\n",
    "    \"\"\"\n",
    "    block_queries = {}\n",
    "    \n",
    "    for block_id in sorted(df[\"TABBLK\"].unique()):\n",
    "        block = df[df[\"TABBLK\"] == block_id]\n",
    "        block_queries[block_id] = query_manager(block)\n",
    "    \n",
    "    return block_queries\n",
    "        \n",
    "def get_num_reconstructed(recon, real):\n",
    "    \"\"\"\n",
    "        `recon' and `real' are both pandas DataFrames.\n",
    "    \"\"\"\n",
    "    real_unique = real.groupby(real.columns.tolist(), as_index=False).size()\n",
    "    recon_unique = recon.groupby(recon.columns.tolist(), as_index=False).size()\n",
    "    \n",
    "    num_reconstructed = 0\n",
    "    \n",
    "    for idx, recon_row in recon_unique.iterrows():\n",
    "        (blk, race, hisp, age, sex, size) = recon_row\n",
    "        real_row = real_unique.query(f'TABBLK == {blk} and ' +\n",
    "                                     f'CENRACE == {race} and ' +\n",
    "                                     f'CENHISP == {hisp} and ' +\n",
    "                                     f'QAGE == {age} and ' +\n",
    "                                     f'QSEX == {sex}')\n",
    "\n",
    "        if len(real_row) > 0:\n",
    "            num_reconstructed += min(real_row[\"size\"].item(), size)\n",
    "    \n",
    "    return num_reconstructed"
   ]
  },
  {
   "cell_type": "code",
   "execution_count": 276,
   "id": "5db0399c",
   "metadata": {},
   "outputs": [
    {
     "data": {
      "text/html": [
       "<div>\n",
       "<style scoped>\n",
       "    .dataframe tbody tr th:only-of-type {\n",
       "        vertical-align: middle;\n",
       "    }\n",
       "\n",
       "    .dataframe tbody tr th {\n",
       "        vertical-align: top;\n",
       "    }\n",
       "\n",
       "    .dataframe thead th {\n",
       "        text-align: right;\n",
       "    }\n",
       "</style>\n",
       "<table border=\"1\" class=\"dataframe\">\n",
       "  <thead>\n",
       "    <tr style=\"text-align: right;\">\n",
       "      <th></th>\n",
       "      <th>TABBLK</th>\n",
       "      <th>CENRACE</th>\n",
       "      <th>CENHISP</th>\n",
       "      <th>QAGE</th>\n",
       "      <th>QSEX</th>\n",
       "    </tr>\n",
       "  </thead>\n",
       "  <tbody>\n",
       "    <tr>\n",
       "      <th>0</th>\n",
       "      <td>0</td>\n",
       "      <td>0</td>\n",
       "      <td>1</td>\n",
       "      <td>1</td>\n",
       "      <td>1</td>\n",
       "    </tr>\n",
       "    <tr>\n",
       "      <th>1</th>\n",
       "      <td>0</td>\n",
       "      <td>0</td>\n",
       "      <td>1</td>\n",
       "      <td>1</td>\n",
       "      <td>1</td>\n",
       "    </tr>\n",
       "    <tr>\n",
       "      <th>2</th>\n",
       "      <td>0</td>\n",
       "      <td>0</td>\n",
       "      <td>1</td>\n",
       "      <td>1</td>\n",
       "      <td>1</td>\n",
       "    </tr>\n",
       "    <tr>\n",
       "      <th>3</th>\n",
       "      <td>0</td>\n",
       "      <td>0</td>\n",
       "      <td>1</td>\n",
       "      <td>1</td>\n",
       "      <td>1</td>\n",
       "    </tr>\n",
       "    <tr>\n",
       "      <th>4</th>\n",
       "      <td>0</td>\n",
       "      <td>0</td>\n",
       "      <td>1</td>\n",
       "      <td>1</td>\n",
       "      <td>1</td>\n",
       "    </tr>\n",
       "    <tr>\n",
       "      <th>...</th>\n",
       "      <td>...</td>\n",
       "      <td>...</td>\n",
       "      <td>...</td>\n",
       "      <td>...</td>\n",
       "      <td>...</td>\n",
       "    </tr>\n",
       "    <tr>\n",
       "      <th>56</th>\n",
       "      <td>113</td>\n",
       "      <td>0</td>\n",
       "      <td>1</td>\n",
       "      <td>1</td>\n",
       "      <td>0</td>\n",
       "    </tr>\n",
       "    <tr>\n",
       "      <th>57</th>\n",
       "      <td>113</td>\n",
       "      <td>0</td>\n",
       "      <td>1</td>\n",
       "      <td>1</td>\n",
       "      <td>1</td>\n",
       "    </tr>\n",
       "    <tr>\n",
       "      <th>58</th>\n",
       "      <td>113</td>\n",
       "      <td>0</td>\n",
       "      <td>1</td>\n",
       "      <td>1</td>\n",
       "      <td>1</td>\n",
       "    </tr>\n",
       "    <tr>\n",
       "      <th>59</th>\n",
       "      <td>113</td>\n",
       "      <td>0</td>\n",
       "      <td>1</td>\n",
       "      <td>1</td>\n",
       "      <td>0</td>\n",
       "    </tr>\n",
       "    <tr>\n",
       "      <th>60</th>\n",
       "      <td>113</td>\n",
       "      <td>0</td>\n",
       "      <td>1</td>\n",
       "      <td>1</td>\n",
       "      <td>1</td>\n",
       "    </tr>\n",
       "  </tbody>\n",
       "</table>\n",
       "<p>4537 rows × 5 columns</p>\n",
       "</div>"
      ],
      "text/plain": [
       "   TABBLK CENRACE CENHISP QAGE QSEX\n",
       "0       0       0       1    1    1\n",
       "1       0       0       1    1    1\n",
       "2       0       0       1    1    1\n",
       "3       0       0       1    1    1\n",
       "4       0       0       1    1    1\n",
       "..    ...     ...     ...  ...  ...\n",
       "56    113       0       1    1    0\n",
       "57    113       0       1    1    1\n",
       "58    113       0       1    1    1\n",
       "59    113       0       1    1    0\n",
       "60    113       0       1    1    1\n",
       "\n",
       "[4537 rows x 5 columns]"
      ]
     },
     "execution_count": 276,
     "metadata": {},
     "output_type": "execute_result"
    }
   ],
   "source": [
    "df = pd.read_csv(\"./dp-query-release/datasets/ppmf/ppmf_01097007000.csv\")\n",
    "df = df[['TABBLK', 'CENRACE', 'CENHISP', 'QAGE', 'QSEX']]\n",
    "df[\"QAGE\"] = df[\"QAGE\"].apply(lambda x: x >= 18).apply(turn_ones) \n",
    "df[\"CENRACE\"] = df[\"CENRACE\"].apply(lambda x: x if x <= 5 else 6)\n",
    "\n",
    "all_block_queries = get_block_queries(df)\n",
    "recon = reconstruct_tract(all_block_queries)\n",
    "recon"
   ]
  },
  {
   "cell_type": "code",
   "execution_count": 235,
   "id": "93f0bdeb",
   "metadata": {},
   "outputs": [],
   "source": [
    "# we can simply concatenate all of our reconstructions. \n",
    "# furthermore, we can also get a confidence score on our rows. why not? especially the fully determined ones. "
   ]
  },
  {
   "cell_type": "code",
   "execution_count": 277,
   "id": "ca793a9f",
   "metadata": {},
   "outputs": [
    {
     "data": {
      "text/plain": [
       "True"
      ]
     },
     "execution_count": 277,
     "metadata": {},
     "output_type": "execute_result"
    }
   ],
   "source": [
    "tests_passed(all_block_queries, recon)"
   ]
  },
  {
   "cell_type": "code",
   "execution_count": 278,
   "id": "d9213028",
   "metadata": {},
   "outputs": [
    {
     "data": {
      "text/plain": [
       "4173"
      ]
     },
     "execution_count": 278,
     "metadata": {},
     "output_type": "execute_result"
    }
   ],
   "source": [
    "get_num_reconstructed(recon, df)"
   ]
  },
  {
   "cell_type": "code",
   "execution_count": 294,
   "id": "a7769912",
   "metadata": {
    "scrolled": true
   },
   "outputs": [
    {
     "name": "stdout",
     "output_type": "stream",
     "text": [
      "0\n",
      "1\n",
      "2\n",
      "3\n",
      "4\n"
     ]
    },
    {
     "name": "stderr",
     "output_type": "stream",
     "text": [
      "/var/folders/p1/b5r1bfts7wzfpyn0b3149s480000gn/T/ipykernel_85846/1204387978.py:105: RuntimeWarning: invalid value encountered in divide\n",
      "  sex_prob = q.age_sex[rage] / q.age_sex[rage].sum()\n"
     ]
    },
    {
     "name": "stdout",
     "output_type": "stream",
     "text": [
      "5\n",
      "6\n"
     ]
    },
    {
     "name": "stderr",
     "output_type": "stream",
     "text": [
      "/var/folders/p1/b5r1bfts7wzfpyn0b3149s480000gn/T/ipykernel_85846/1204387978.py:105: RuntimeWarning: invalid value encountered in divide\n",
      "  sex_prob = q.age_sex[rage] / q.age_sex[rage].sum()\n",
      "/var/folders/p1/b5r1bfts7wzfpyn0b3149s480000gn/T/ipykernel_85846/1204387978.py:105: RuntimeWarning: invalid value encountered in divide\n",
      "  sex_prob = q.age_sex[rage] / q.age_sex[rage].sum()\n"
     ]
    },
    {
     "name": "stdout",
     "output_type": "stream",
     "text": [
      "7\n",
      "8\n",
      "9\n",
      "10\n",
      "11\n",
      "12\n",
      "13\n",
      "14\n",
      "15\n",
      "16\n",
      "17\n",
      "18\n",
      "19\n",
      "20\n"
     ]
    },
    {
     "name": "stderr",
     "output_type": "stream",
     "text": [
      "/var/folders/p1/b5r1bfts7wzfpyn0b3149s480000gn/T/ipykernel_85846/1204387978.py:105: RuntimeWarning: invalid value encountered in divide\n",
      "  sex_prob = q.age_sex[rage] / q.age_sex[rage].sum()\n"
     ]
    },
    {
     "name": "stdout",
     "output_type": "stream",
     "text": [
      "21\n"
     ]
    },
    {
     "name": "stderr",
     "output_type": "stream",
     "text": [
      "/var/folders/p1/b5r1bfts7wzfpyn0b3149s480000gn/T/ipykernel_85846/1204387978.py:105: RuntimeWarning: invalid value encountered in divide\n",
      "  sex_prob = q.age_sex[rage] / q.age_sex[rage].sum()\n"
     ]
    },
    {
     "name": "stdout",
     "output_type": "stream",
     "text": [
      "22\n",
      "23\n",
      "24\n",
      "25\n",
      "26\n",
      "27\n",
      "28\n",
      "29\n",
      "30\n",
      "31\n",
      "32\n"
     ]
    },
    {
     "name": "stderr",
     "output_type": "stream",
     "text": [
      "/var/folders/p1/b5r1bfts7wzfpyn0b3149s480000gn/T/ipykernel_85846/1204387978.py:105: RuntimeWarning: invalid value encountered in divide\n",
      "  sex_prob = q.age_sex[rage] / q.age_sex[rage].sum()\n"
     ]
    },
    {
     "name": "stdout",
     "output_type": "stream",
     "text": [
      "33\n",
      "34\n",
      "35\n"
     ]
    },
    {
     "name": "stderr",
     "output_type": "stream",
     "text": [
      "/var/folders/p1/b5r1bfts7wzfpyn0b3149s480000gn/T/ipykernel_85846/1204387978.py:105: RuntimeWarning: invalid value encountered in divide\n",
      "  sex_prob = q.age_sex[rage] / q.age_sex[rage].sum()\n"
     ]
    },
    {
     "name": "stdout",
     "output_type": "stream",
     "text": [
      "36\n",
      "37\n",
      "38\n",
      "39\n",
      "40\n"
     ]
    },
    {
     "name": "stderr",
     "output_type": "stream",
     "text": [
      "/var/folders/p1/b5r1bfts7wzfpyn0b3149s480000gn/T/ipykernel_85846/1204387978.py:105: RuntimeWarning: invalid value encountered in divide\n",
      "  sex_prob = q.age_sex[rage] / q.age_sex[rage].sum()\n"
     ]
    },
    {
     "name": "stdout",
     "output_type": "stream",
     "text": [
      "41\n",
      "42\n",
      "43\n",
      "44\n"
     ]
    },
    {
     "name": "stderr",
     "output_type": "stream",
     "text": [
      "/var/folders/p1/b5r1bfts7wzfpyn0b3149s480000gn/T/ipykernel_85846/1204387978.py:105: RuntimeWarning: invalid value encountered in divide\n",
      "  sex_prob = q.age_sex[rage] / q.age_sex[rage].sum()\n"
     ]
    },
    {
     "name": "stdout",
     "output_type": "stream",
     "text": [
      "45\n",
      "46\n",
      "47\n",
      "48\n"
     ]
    },
    {
     "name": "stderr",
     "output_type": "stream",
     "text": [
      "/var/folders/p1/b5r1bfts7wzfpyn0b3149s480000gn/T/ipykernel_85846/1204387978.py:105: RuntimeWarning: invalid value encountered in divide\n",
      "  sex_prob = q.age_sex[rage] / q.age_sex[rage].sum()\n"
     ]
    },
    {
     "name": "stdout",
     "output_type": "stream",
     "text": [
      "49\n",
      "50\n",
      "51\n"
     ]
    },
    {
     "name": "stderr",
     "output_type": "stream",
     "text": [
      "/var/folders/p1/b5r1bfts7wzfpyn0b3149s480000gn/T/ipykernel_85846/1204387978.py:105: RuntimeWarning: invalid value encountered in divide\n",
      "  sex_prob = q.age_sex[rage] / q.age_sex[rage].sum()\n"
     ]
    },
    {
     "name": "stdout",
     "output_type": "stream",
     "text": [
      "52\n",
      "53\n"
     ]
    },
    {
     "name": "stderr",
     "output_type": "stream",
     "text": [
      "/var/folders/p1/b5r1bfts7wzfpyn0b3149s480000gn/T/ipykernel_85846/1204387978.py:105: RuntimeWarning: invalid value encountered in divide\n",
      "  sex_prob = q.age_sex[rage] / q.age_sex[rage].sum()\n"
     ]
    },
    {
     "name": "stdout",
     "output_type": "stream",
     "text": [
      "54\n",
      "55\n",
      "56\n",
      "57\n"
     ]
    },
    {
     "name": "stderr",
     "output_type": "stream",
     "text": [
      "/var/folders/p1/b5r1bfts7wzfpyn0b3149s480000gn/T/ipykernel_85846/1204387978.py:105: RuntimeWarning: invalid value encountered in divide\n",
      "  sex_prob = q.age_sex[rage] / q.age_sex[rage].sum()\n",
      "/var/folders/p1/b5r1bfts7wzfpyn0b3149s480000gn/T/ipykernel_85846/1204387978.py:105: RuntimeWarning: invalid value encountered in divide\n",
      "  sex_prob = q.age_sex[rage] / q.age_sex[rage].sum()\n"
     ]
    },
    {
     "name": "stdout",
     "output_type": "stream",
     "text": [
      "58\n",
      "59\n",
      "60\n",
      "61\n",
      "62\n",
      "63\n",
      "64\n",
      "65\n",
      "66\n",
      "67\n",
      "68\n",
      "69\n",
      "70\n",
      "71\n",
      "72\n",
      "73\n",
      "74\n"
     ]
    },
    {
     "name": "stderr",
     "output_type": "stream",
     "text": [
      "/var/folders/p1/b5r1bfts7wzfpyn0b3149s480000gn/T/ipykernel_85846/1204387978.py:105: RuntimeWarning: invalid value encountered in divide\n",
      "  sex_prob = q.age_sex[rage] / q.age_sex[rage].sum()\n"
     ]
    },
    {
     "name": "stdout",
     "output_type": "stream",
     "text": [
      "75\n",
      "76\n",
      "77\n",
      "78\n",
      "79\n",
      "80\n",
      "81\n"
     ]
    },
    {
     "name": "stderr",
     "output_type": "stream",
     "text": [
      "/var/folders/p1/b5r1bfts7wzfpyn0b3149s480000gn/T/ipykernel_85846/1204387978.py:105: RuntimeWarning: invalid value encountered in divide\n",
      "  sex_prob = q.age_sex[rage] / q.age_sex[rage].sum()\n"
     ]
    },
    {
     "name": "stdout",
     "output_type": "stream",
     "text": [
      "82\n",
      "83\n",
      "84\n",
      "85\n",
      "86\n",
      "87\n"
     ]
    },
    {
     "name": "stderr",
     "output_type": "stream",
     "text": [
      "/var/folders/p1/b5r1bfts7wzfpyn0b3149s480000gn/T/ipykernel_85846/1204387978.py:105: RuntimeWarning: invalid value encountered in divide\n",
      "  sex_prob = q.age_sex[rage] / q.age_sex[rage].sum()\n"
     ]
    },
    {
     "name": "stdout",
     "output_type": "stream",
     "text": [
      "88\n"
     ]
    },
    {
     "name": "stderr",
     "output_type": "stream",
     "text": [
      "/var/folders/p1/b5r1bfts7wzfpyn0b3149s480000gn/T/ipykernel_85846/1204387978.py:105: RuntimeWarning: invalid value encountered in divide\n",
      "  sex_prob = q.age_sex[rage] / q.age_sex[rage].sum()\n"
     ]
    },
    {
     "name": "stdout",
     "output_type": "stream",
     "text": [
      "89\n",
      "90\n",
      "91\n",
      "92\n",
      "93\n"
     ]
    },
    {
     "name": "stderr",
     "output_type": "stream",
     "text": [
      "/var/folders/p1/b5r1bfts7wzfpyn0b3149s480000gn/T/ipykernel_85846/1204387978.py:105: RuntimeWarning: invalid value encountered in divide\n",
      "  sex_prob = q.age_sex[rage] / q.age_sex[rage].sum()\n"
     ]
    },
    {
     "name": "stdout",
     "output_type": "stream",
     "text": [
      "94\n",
      "95\n"
     ]
    },
    {
     "name": "stderr",
     "output_type": "stream",
     "text": [
      "/var/folders/p1/b5r1bfts7wzfpyn0b3149s480000gn/T/ipykernel_85846/1204387978.py:105: RuntimeWarning: invalid value encountered in divide\n",
      "  sex_prob = q.age_sex[rage] / q.age_sex[rage].sum()\n"
     ]
    },
    {
     "name": "stdout",
     "output_type": "stream",
     "text": [
      "96\n",
      "97\n",
      "98\n",
      "99\n"
     ]
    }
   ],
   "source": [
    "all_recons = pd.DataFrame(columns=df.columns)\n",
    "counter = 0\n",
    "while counter <100:\n",
    "    try:\n",
    "        recon = reconstruct_tract(all_block_queries)\n",
    "        print(counter)\n",
    "        counter += 1\n",
    "        all_recons = pd.concat([all_recons, recon])\n",
    "    except:\n",
    "        continue"
   ]
  },
  {
   "cell_type": "code",
   "execution_count": 295,
   "id": "7340056b",
   "metadata": {},
   "outputs": [
    {
     "data": {
      "text/html": [
       "<div>\n",
       "<style scoped>\n",
       "    .dataframe tbody tr th:only-of-type {\n",
       "        vertical-align: middle;\n",
       "    }\n",
       "\n",
       "    .dataframe tbody tr th {\n",
       "        vertical-align: top;\n",
       "    }\n",
       "\n",
       "    .dataframe thead th {\n",
       "        text-align: right;\n",
       "    }\n",
       "</style>\n",
       "<table border=\"1\" class=\"dataframe\">\n",
       "  <thead>\n",
       "    <tr style=\"text-align: right;\">\n",
       "      <th></th>\n",
       "      <th>TABBLK</th>\n",
       "      <th>CENRACE</th>\n",
       "      <th>CENHISP</th>\n",
       "      <th>QAGE</th>\n",
       "      <th>QSEX</th>\n",
       "      <th>size</th>\n",
       "    </tr>\n",
       "  </thead>\n",
       "  <tbody>\n",
       "    <tr>\n",
       "      <th>0</th>\n",
       "      <td>0</td>\n",
       "      <td>0</td>\n",
       "      <td>1</td>\n",
       "      <td>1</td>\n",
       "      <td>1</td>\n",
       "      <td>500</td>\n",
       "    </tr>\n",
       "    <tr>\n",
       "      <th>1</th>\n",
       "      <td>1</td>\n",
       "      <td>0</td>\n",
       "      <td>1</td>\n",
       "      <td>0</td>\n",
       "      <td>0</td>\n",
       "      <td>600</td>\n",
       "    </tr>\n",
       "    <tr>\n",
       "      <th>2</th>\n",
       "      <td>1</td>\n",
       "      <td>0</td>\n",
       "      <td>1</td>\n",
       "      <td>1</td>\n",
       "      <td>0</td>\n",
       "      <td>8000</td>\n",
       "    </tr>\n",
       "    <tr>\n",
       "      <th>3</th>\n",
       "      <td>1</td>\n",
       "      <td>0</td>\n",
       "      <td>1</td>\n",
       "      <td>1</td>\n",
       "      <td>1</td>\n",
       "      <td>4700</td>\n",
       "    </tr>\n",
       "    <tr>\n",
       "      <th>4</th>\n",
       "      <td>2</td>\n",
       "      <td>0</td>\n",
       "      <td>1</td>\n",
       "      <td>1</td>\n",
       "      <td>0</td>\n",
       "      <td>187</td>\n",
       "    </tr>\n",
       "    <tr>\n",
       "      <th>...</th>\n",
       "      <td>...</td>\n",
       "      <td>...</td>\n",
       "      <td>...</td>\n",
       "      <td>...</td>\n",
       "      <td>...</td>\n",
       "      <td>...</td>\n",
       "    </tr>\n",
       "    <tr>\n",
       "      <th>567</th>\n",
       "      <td>113</td>\n",
       "      <td>1</td>\n",
       "      <td>1</td>\n",
       "      <td>1</td>\n",
       "      <td>1</td>\n",
       "      <td>55</td>\n",
       "    </tr>\n",
       "    <tr>\n",
       "      <th>568</th>\n",
       "      <td>113</td>\n",
       "      <td>6</td>\n",
       "      <td>1</td>\n",
       "      <td>0</td>\n",
       "      <td>0</td>\n",
       "      <td>33</td>\n",
       "    </tr>\n",
       "    <tr>\n",
       "      <th>569</th>\n",
       "      <td>113</td>\n",
       "      <td>6</td>\n",
       "      <td>1</td>\n",
       "      <td>0</td>\n",
       "      <td>1</td>\n",
       "      <td>60</td>\n",
       "    </tr>\n",
       "    <tr>\n",
       "      <th>570</th>\n",
       "      <td>113</td>\n",
       "      <td>6</td>\n",
       "      <td>1</td>\n",
       "      <td>1</td>\n",
       "      <td>0</td>\n",
       "      <td>81</td>\n",
       "    </tr>\n",
       "    <tr>\n",
       "      <th>571</th>\n",
       "      <td>113</td>\n",
       "      <td>6</td>\n",
       "      <td>1</td>\n",
       "      <td>1</td>\n",
       "      <td>1</td>\n",
       "      <td>226</td>\n",
       "    </tr>\n",
       "  </tbody>\n",
       "</table>\n",
       "<p>572 rows × 6 columns</p>\n",
       "</div>"
      ],
      "text/plain": [
       "     TABBLK  CENRACE  CENHISP  QAGE  QSEX  size\n",
       "0         0        0        1     1     1   500\n",
       "1         1        0        1     0     0   600\n",
       "2         1        0        1     1     0  8000\n",
       "3         1        0        1     1     1  4700\n",
       "4         2        0        1     1     0   187\n",
       "..      ...      ...      ...   ...   ...   ...\n",
       "567     113        1        1     1     1    55\n",
       "568     113        6        1     0     0    33\n",
       "569     113        6        1     0     1    60\n",
       "570     113        6        1     1     0    81\n",
       "571     113        6        1     1     1   226\n",
       "\n",
       "[572 rows x 6 columns]"
      ]
     },
     "execution_count": 295,
     "metadata": {},
     "output_type": "execute_result"
    }
   ],
   "source": [
    "all_recons_unique = all_recons.groupby(all_recons.columns.tolist(), as_index=False).size()\n",
    "all_recons_unique"
   ]
  },
  {
   "cell_type": "code",
   "execution_count": 298,
   "id": "d0b027a8",
   "metadata": {},
   "outputs": [
    {
     "data": {
      "text/html": [
       "<div>\n",
       "<style scoped>\n",
       "    .dataframe tbody tr th:only-of-type {\n",
       "        vertical-align: middle;\n",
       "    }\n",
       "\n",
       "    .dataframe tbody tr th {\n",
       "        vertical-align: top;\n",
       "    }\n",
       "\n",
       "    .dataframe thead th {\n",
       "        text-align: right;\n",
       "    }\n",
       "</style>\n",
       "<table border=\"1\" class=\"dataframe\">\n",
       "  <thead>\n",
       "    <tr style=\"text-align: right;\">\n",
       "      <th></th>\n",
       "      <th>TABBLK</th>\n",
       "      <th>CENRACE</th>\n",
       "      <th>CENHISP</th>\n",
       "      <th>QAGE</th>\n",
       "      <th>QSEX</th>\n",
       "      <th>size</th>\n",
       "    </tr>\n",
       "  </thead>\n",
       "  <tbody>\n",
       "    <tr>\n",
       "      <th>209</th>\n",
       "      <td>53</td>\n",
       "      <td>0</td>\n",
       "      <td>1</td>\n",
       "      <td>1</td>\n",
       "      <td>1</td>\n",
       "      <td>11167</td>\n",
       "    </tr>\n",
       "    <tr>\n",
       "      <th>387</th>\n",
       "      <td>83</td>\n",
       "      <td>0</td>\n",
       "      <td>1</td>\n",
       "      <td>1</td>\n",
       "      <td>0</td>\n",
       "      <td>10020</td>\n",
       "    </tr>\n",
       "    <tr>\n",
       "      <th>128</th>\n",
       "      <td>32</td>\n",
       "      <td>0</td>\n",
       "      <td>1</td>\n",
       "      <td>1</td>\n",
       "      <td>1</td>\n",
       "      <td>8300</td>\n",
       "    </tr>\n",
       "    <tr>\n",
       "      <th>2</th>\n",
       "      <td>1</td>\n",
       "      <td>0</td>\n",
       "      <td>1</td>\n",
       "      <td>1</td>\n",
       "      <td>0</td>\n",
       "      <td>8000</td>\n",
       "    </tr>\n",
       "    <tr>\n",
       "      <th>19</th>\n",
       "      <td>7</td>\n",
       "      <td>0</td>\n",
       "      <td>1</td>\n",
       "      <td>1</td>\n",
       "      <td>1</td>\n",
       "      <td>7800</td>\n",
       "    </tr>\n",
       "    <tr>\n",
       "      <th>...</th>\n",
       "      <td>...</td>\n",
       "      <td>...</td>\n",
       "      <td>...</td>\n",
       "      <td>...</td>\n",
       "      <td>...</td>\n",
       "      <td>...</td>\n",
       "    </tr>\n",
       "    <tr>\n",
       "      <th>119</th>\n",
       "      <td>29</td>\n",
       "      <td>2</td>\n",
       "      <td>1</td>\n",
       "      <td>1</td>\n",
       "      <td>0</td>\n",
       "      <td>5</td>\n",
       "    </tr>\n",
       "    <tr>\n",
       "      <th>66</th>\n",
       "      <td>17</td>\n",
       "      <td>5</td>\n",
       "      <td>1</td>\n",
       "      <td>0</td>\n",
       "      <td>0</td>\n",
       "      <td>5</td>\n",
       "    </tr>\n",
       "    <tr>\n",
       "      <th>431</th>\n",
       "      <td>89</td>\n",
       "      <td>3</td>\n",
       "      <td>1</td>\n",
       "      <td>0</td>\n",
       "      <td>1</td>\n",
       "      <td>4</td>\n",
       "    </tr>\n",
       "    <tr>\n",
       "      <th>501</th>\n",
       "      <td>98</td>\n",
       "      <td>2</td>\n",
       "      <td>1</td>\n",
       "      <td>0</td>\n",
       "      <td>0</td>\n",
       "      <td>2</td>\n",
       "    </tr>\n",
       "    <tr>\n",
       "      <th>118</th>\n",
       "      <td>29</td>\n",
       "      <td>2</td>\n",
       "      <td>1</td>\n",
       "      <td>0</td>\n",
       "      <td>1</td>\n",
       "      <td>2</td>\n",
       "    </tr>\n",
       "  </tbody>\n",
       "</table>\n",
       "<p>572 rows × 6 columns</p>\n",
       "</div>"
      ],
      "text/plain": [
       "     TABBLK  CENRACE  CENHISP  QAGE  QSEX   size\n",
       "209      53        0        1     1     1  11167\n",
       "387      83        0        1     1     0  10020\n",
       "128      32        0        1     1     1   8300\n",
       "2         1        0        1     1     0   8000\n",
       "19        7        0        1     1     1   7800\n",
       "..      ...      ...      ...   ...   ...    ...\n",
       "119      29        2        1     1     0      5\n",
       "66       17        5        1     0     0      5\n",
       "431      89        3        1     0     1      4\n",
       "501      98        2        1     0     0      2\n",
       "118      29        2        1     0     1      2\n",
       "\n",
       "[572 rows x 6 columns]"
      ]
     },
     "execution_count": 298,
     "metadata": {},
     "output_type": "execute_result"
    }
   ],
   "source": [
    "all_recons_unique = all_recons_unique.sort_values(by=['size'], ascending=False)\n",
    "all_recons_unique"
   ]
  },
  {
   "cell_type": "code",
   "execution_count": 314,
   "id": "40c6ccda",
   "metadata": {},
   "outputs": [],
   "source": [
    "def match_rate(recon, real, k):\n",
    "    \"\"\"\n",
    "    \"\"\"\n",
    "    num_reconstructed = 0\n",
    "    for i in range(k):\n",
    "        (blk, race, hisp, age, sex, size) = recon.iloc[i]\n",
    "        real_row = real.query(f'TABBLK == {blk} and ' +\n",
    "                              f'CENRACE == {race} and ' +\n",
    "                              f'CENHISP == {hisp} and ' +\n",
    "                              f'QAGE == {age} and ' +\n",
    "                              f'QSEX == {sex}')\n",
    "\n",
    "        if len(real_row) > 0:\n",
    "            num_reconstructed += 1\n",
    "    \n",
    "    return num_reconstructed / k"
   ]
  },
  {
   "cell_type": "code",
   "execution_count": 315,
   "id": "42802aa5",
   "metadata": {},
   "outputs": [
    {
     "data": {
      "text/plain": [
       "0.6771929824561403"
      ]
     },
     "execution_count": 315,
     "metadata": {},
     "output_type": "execute_result"
    }
   ],
   "source": [
    "match_rate(all_recons_unique, df, 570)"
   ]
  },
  {
   "cell_type": "code",
   "execution_count": 316,
   "id": "613307e0",
   "metadata": {},
   "outputs": [],
   "source": []
  },
  {
   "cell_type": "code",
   "execution_count": 318,
   "id": "2776bc92",
   "metadata": {},
   "outputs": [],
   "source": [
    "u = len(all_recons_unique)\n",
    "\n",
    "xs = []\n",
    "ys = []\n",
    "\n",
    "for k in range(1, u):\n",
    "    mr = match_rate(all_recons_unique, df, k)\n",
    "    \n",
    "    xs.append(k/u)\n",
    "    ys.append(mr)"
   ]
  },
  {
   "cell_type": "code",
   "execution_count": 325,
   "id": "feec6e1f",
   "metadata": {},
   "outputs": [
    {
     "data": {
      "image/png": "[encoded data removed]",
      "text/plain": [
       "<Figure size 640x480 with 1 Axes>"
      ]
     },
     "metadata": {},
     "output_type": "display_data"
    }
   ],
   "source": [
    "plt.plot(xs, ys)\n",
    "plt.xlim([-0.1, 1.1])\n",
    "plt.ylim([-0.1, 1.1])\n",
    "plt.ylabel(\"Match Rate\")\n",
    "plt.xlabel(\"k/u\")\n",
    "plt.savefig(\"coarse_matchrate.png\")"
   ]
  },
  {
   "cell_type": "code",
   "execution_count": null,
   "id": "3bfa29e0",
   "metadata": {},
   "outputs": [],
   "source": []
  }
 ],
 "metadata": {
  "kernelspec": {
   "display_name": "Python 3 (ipykernel)",
   "language": "python",
   "name": "python3"
  },
  "language_info": {
   "codemirror_mode": {
    "name": "ipython",
    "version": 3
   },
   "file_extension": ".py",
   "mimetype": "text/x-python",
   "name": "python",
   "nbconvert_exporter": "python",
   "pygments_lexer": "ipython3",
   "version": "3.8.16"
  }
 },
 "nbformat": 4,
 "nbformat_minor": 5
}
