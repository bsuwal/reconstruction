{
 "cells": [
  {
   "cell_type": "code",
   "execution_count": 1,
   "id": "eb949718",
   "metadata": {},
   "outputs": [],
   "source": [
    "import pandas as pd"
   ]
  },
  {
   "cell_type": "code",
   "execution_count": 2,
   "id": "c3895374",
   "metadata": {},
   "outputs": [
    {
     "data": {
      "text/html": [
       "<div>\n",
       "<style scoped>\n",
       "    .dataframe tbody tr th:only-of-type {\n",
       "        vertical-align: middle;\n",
       "    }\n",
       "\n",
       "    .dataframe tbody tr th {\n",
       "        vertical-align: top;\n",
       "    }\n",
       "\n",
       "    .dataframe thead th {\n",
       "        text-align: right;\n",
       "    }\n",
       "</style>\n",
       "<table border=\"1\" class=\"dataframe\">\n",
       "  <thead>\n",
       "    <tr style=\"text-align: right;\">\n",
       "      <th></th>\n",
       "      <th>VINTAGE</th>\n",
       "      <th>TABBLKST</th>\n",
       "      <th>TABBLKCOU</th>\n",
       "      <th>TABTRACTCE</th>\n",
       "      <th>TABBLKGRPCE</th>\n",
       "      <th>TABBLK</th>\n",
       "      <th>RTYPE</th>\n",
       "      <th>GQTYPE</th>\n",
       "      <th>QSEX</th>\n",
       "      <th>QAGE</th>\n",
       "      <th>CENHISP</th>\n",
       "      <th>CENRACE</th>\n",
       "    </tr>\n",
       "  </thead>\n",
       "  <tbody>\n",
       "    <tr>\n",
       "      <th>0</th>\n",
       "      <td>20200527_P</td>\n",
       "      <td>1</td>\n",
       "      <td>93</td>\n",
       "      <td>964100</td>\n",
       "      <td>3</td>\n",
       "      <td>3058</td>\n",
       "      <td>3</td>\n",
       "      <td>0</td>\n",
       "      <td>1</td>\n",
       "      <td>12</td>\n",
       "      <td>1</td>\n",
       "      <td>1</td>\n",
       "    </tr>\n",
       "    <tr>\n",
       "      <th>1</th>\n",
       "      <td>20200527_P</td>\n",
       "      <td>1</td>\n",
       "      <td>93</td>\n",
       "      <td>964100</td>\n",
       "      <td>3</td>\n",
       "      <td>3058</td>\n",
       "      <td>3</td>\n",
       "      <td>0</td>\n",
       "      <td>1</td>\n",
       "      <td>12</td>\n",
       "      <td>1</td>\n",
       "      <td>1</td>\n",
       "    </tr>\n",
       "    <tr>\n",
       "      <th>2</th>\n",
       "      <td>20200527_P</td>\n",
       "      <td>1</td>\n",
       "      <td>93</td>\n",
       "      <td>964100</td>\n",
       "      <td>3</td>\n",
       "      <td>3058</td>\n",
       "      <td>3</td>\n",
       "      <td>0</td>\n",
       "      <td>1</td>\n",
       "      <td>12</td>\n",
       "      <td>1</td>\n",
       "      <td>1</td>\n",
       "    </tr>\n",
       "    <tr>\n",
       "      <th>3</th>\n",
       "      <td>20200527_P</td>\n",
       "      <td>1</td>\n",
       "      <td>93</td>\n",
       "      <td>964100</td>\n",
       "      <td>3</td>\n",
       "      <td>3058</td>\n",
       "      <td>3</td>\n",
       "      <td>0</td>\n",
       "      <td>1</td>\n",
       "      <td>12</td>\n",
       "      <td>1</td>\n",
       "      <td>1</td>\n",
       "    </tr>\n",
       "    <tr>\n",
       "      <th>4</th>\n",
       "      <td>20200527_P</td>\n",
       "      <td>1</td>\n",
       "      <td>93</td>\n",
       "      <td>964100</td>\n",
       "      <td>3</td>\n",
       "      <td>3058</td>\n",
       "      <td>3</td>\n",
       "      <td>0</td>\n",
       "      <td>1</td>\n",
       "      <td>12</td>\n",
       "      <td>1</td>\n",
       "      <td>1</td>\n",
       "    </tr>\n",
       "    <tr>\n",
       "      <th>...</th>\n",
       "      <td>...</td>\n",
       "      <td>...</td>\n",
       "      <td>...</td>\n",
       "      <td>...</td>\n",
       "      <td>...</td>\n",
       "      <td>...</td>\n",
       "      <td>...</td>\n",
       "      <td>...</td>\n",
       "      <td>...</td>\n",
       "      <td>...</td>\n",
       "      <td>...</td>\n",
       "      <td>...</td>\n",
       "    </tr>\n",
       "    <tr>\n",
       "      <th>4779731</th>\n",
       "      <td>20200527_P</td>\n",
       "      <td>1</td>\n",
       "      <td>93</td>\n",
       "      <td>964100</td>\n",
       "      <td>3</td>\n",
       "      <td>3057</td>\n",
       "      <td>3</td>\n",
       "      <td>0</td>\n",
       "      <td>1</td>\n",
       "      <td>37</td>\n",
       "      <td>1</td>\n",
       "      <td>1</td>\n",
       "    </tr>\n",
       "    <tr>\n",
       "      <th>4779732</th>\n",
       "      <td>20200527_P</td>\n",
       "      <td>1</td>\n",
       "      <td>93</td>\n",
       "      <td>964100</td>\n",
       "      <td>3</td>\n",
       "      <td>3057</td>\n",
       "      <td>3</td>\n",
       "      <td>0</td>\n",
       "      <td>1</td>\n",
       "      <td>37</td>\n",
       "      <td>1</td>\n",
       "      <td>1</td>\n",
       "    </tr>\n",
       "    <tr>\n",
       "      <th>4779733</th>\n",
       "      <td>20200527_P</td>\n",
       "      <td>1</td>\n",
       "      <td>93</td>\n",
       "      <td>964100</td>\n",
       "      <td>3</td>\n",
       "      <td>3057</td>\n",
       "      <td>3</td>\n",
       "      <td>0</td>\n",
       "      <td>1</td>\n",
       "      <td>37</td>\n",
       "      <td>1</td>\n",
       "      <td>1</td>\n",
       "    </tr>\n",
       "    <tr>\n",
       "      <th>4779734</th>\n",
       "      <td>20200527_P</td>\n",
       "      <td>1</td>\n",
       "      <td>93</td>\n",
       "      <td>964100</td>\n",
       "      <td>3</td>\n",
       "      <td>3057</td>\n",
       "      <td>3</td>\n",
       "      <td>0</td>\n",
       "      <td>1</td>\n",
       "      <td>37</td>\n",
       "      <td>1</td>\n",
       "      <td>1</td>\n",
       "    </tr>\n",
       "    <tr>\n",
       "      <th>4779735</th>\n",
       "      <td>20200527_P</td>\n",
       "      <td>1</td>\n",
       "      <td>93</td>\n",
       "      <td>964100</td>\n",
       "      <td>3</td>\n",
       "      <td>3057</td>\n",
       "      <td>3</td>\n",
       "      <td>0</td>\n",
       "      <td>1</td>\n",
       "      <td>37</td>\n",
       "      <td>1</td>\n",
       "      <td>1</td>\n",
       "    </tr>\n",
       "  </tbody>\n",
       "</table>\n",
       "<p>4779736 rows × 12 columns</p>\n",
       "</div>"
      ],
      "text/plain": [
       "            VINTAGE  TABBLKST  TABBLKCOU  TABTRACTCE  TABBLKGRPCE  TABBLK  \\\n",
       "0        20200527_P         1         93      964100            3    3058   \n",
       "1        20200527_P         1         93      964100            3    3058   \n",
       "2        20200527_P         1         93      964100            3    3058   \n",
       "3        20200527_P         1         93      964100            3    3058   \n",
       "4        20200527_P         1         93      964100            3    3058   \n",
       "...             ...       ...        ...         ...          ...     ...   \n",
       "4779731  20200527_P         1         93      964100            3    3057   \n",
       "4779732  20200527_P         1         93      964100            3    3057   \n",
       "4779733  20200527_P         1         93      964100            3    3057   \n",
       "4779734  20200527_P         1         93      964100            3    3057   \n",
       "4779735  20200527_P         1         93      964100            3    3057   \n",
       "\n",
       "         RTYPE  GQTYPE  QSEX  QAGE  CENHISP  CENRACE  \n",
       "0            3       0     1    12        1        1  \n",
       "1            3       0     1    12        1        1  \n",
       "2            3       0     1    12        1        1  \n",
       "3            3       0     1    12        1        1  \n",
       "4            3       0     1    12        1        1  \n",
       "...        ...     ...   ...   ...      ...      ...  \n",
       "4779731      3       0     1    37        1        1  \n",
       "4779732      3       0     1    37        1        1  \n",
       "4779733      3       0     1    37        1        1  \n",
       "4779734      3       0     1    37        1        1  \n",
       "4779735      3       0     1    37        1        1  \n",
       "\n",
       "[4779736 rows x 12 columns]"
      ]
     },
     "execution_count": 2,
     "metadata": {},
     "output_type": "execute_result"
    }
   ],
   "source": [
    "df = pd.read_csv(\"datasets/raw/ppmf/by_state/ppmf_01.csv\")\n",
    "df"
   ]
  },
  {
   "cell_type": "code",
   "execution_count": 3,
   "id": "c347592c",
   "metadata": {},
   "outputs": [
    {
     "data": {
      "text/plain": [
       "array([1, 2])"
      ]
     },
     "execution_count": 3,
     "metadata": {},
     "output_type": "execute_result"
    }
   ],
   "source": [
    "df[\"QSEX\"].unique()"
   ]
  },
  {
   "cell_type": "code",
   "execution_count": 4,
   "id": "b40e1dde",
   "metadata": {},
   "outputs": [
    {
     "data": {
      "text/plain": [
       "array([1, 2])"
      ]
     },
     "execution_count": 4,
     "metadata": {},
     "output_type": "execute_result"
    }
   ],
   "source": [
    "df[\"CENHISP\"].unique()"
   ]
  },
  {
   "cell_type": "code",
   "execution_count": 5,
   "id": "3af9cc46",
   "metadata": {},
   "outputs": [
    {
     "data": {
      "text/plain": [
       "array([ 1,  2,  6, 11,  4,  7,  8,  3, 14, 22, 46, 13, 15,  5, 12,  9, 10,\n",
       "       18, 25, 20, 41, 26, 43, 37, 19, 28, 30, 23, 21, 35, 24, 29, 16, 17,\n",
       "       42, 53, 38, 32, 36, 57, 27, 44, 34, 48, 51, 45, 39, 52, 33, 49, 61,\n",
       "       55, 31, 40, 59, 62, 58, 63])"
      ]
     },
     "execution_count": 5,
     "metadata": {},
     "output_type": "execute_result"
    }
   ],
   "source": [
    "df[\"CENRACE\"].unique()"
   ]
  },
  {
   "cell_type": "code",
   "execution_count": 6,
   "id": "8f44dca6",
   "metadata": {},
   "outputs": [
    {
     "data": {
      "text/plain": [
       "array([ 93,   7,  77, 103,  39,  73,  45, 129,  47,   3, 101, 119,  83,\n",
       "       115,  75,  81,  79,  87,  97, 127, 123, 131,   1,  55,  89,  57,\n",
       "        15,  95,  51,  49,  91,   5,  43,  69, 109, 117,  13,  31,  63,\n",
       "       125,  59, 121,  71,  33,  27, 133, 113,  23,  53,  85,  25, 107,\n",
       "        99, 111,  19,  17, 105,  37,   9,  65,  21,  67,  35,  29,  11,\n",
       "        61,  41])"
      ]
     },
     "execution_count": 6,
     "metadata": {},
     "output_type": "execute_result"
    }
   ],
   "source": [
    "df[\"TABBLKCOU\"].unique()"
   ]
  },
  {
   "cell_type": "code",
   "execution_count": null,
   "id": "fb0bb440",
   "metadata": {},
   "outputs": [],
   "source": []
  }
 ],
 "metadata": {
  "kernelspec": {
   "display_name": "Python 3 (ipykernel)",
   "language": "python",
   "name": "python3"
  },
  "language_info": {
   "codemirror_mode": {
    "name": "ipython",
    "version": 3
   },
   "file_extension": ".py",
   "mimetype": "text/x-python",
   "name": "python",
   "nbconvert_exporter": "python",
   "pygments_lexer": "ipython3",
   "version": "3.8.16"
  }
 },
 "nbformat": 4,
 "nbformat_minor": 5
}
